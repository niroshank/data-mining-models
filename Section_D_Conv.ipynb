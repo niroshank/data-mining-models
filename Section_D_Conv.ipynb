{
  "nbformat": 4,
  "nbformat_minor": 0,
  "metadata": {
    "colab": {
      "name": "Section_D_Conv.ipynb",
      "provenance": [],
      "collapsed_sections": [],
      "authorship_tag": "ABX9TyMI66BepmUIE5g4T+vXZL4Z",
      "include_colab_link": true
    },
    "kernelspec": {
      "name": "python3",
      "display_name": "Python 3"
    }
  },
  "cells": [
    {
      "cell_type": "markdown",
      "metadata": {
        "id": "view-in-github",
        "colab_type": "text"
      },
      "source": [
        "<a href=\"https://colab.research.google.com/github/niroshank/data-mining-models/blob/master/Section_D_Conv.ipynb\" target=\"_parent\"><img src=\"https://colab.research.google.com/assets/colab-badge.svg\" alt=\"Open In Colab\"/></a>"
      ]
    },
    {
      "cell_type": "code",
      "metadata": {
        "id": "M2Mbb-XtXReF",
        "colab_type": "code",
        "colab": {}
      },
      "source": [
        "# Import libries\n",
        "import tensorflow as tf\n",
        "import numpy as np\n",
        "import matplotlib.pyplot as plt\n",
        "from sklearn.metrics import classification_report\n",
        "from sklearn.datasets import load_digits"
      ],
      "execution_count": 0,
      "outputs": []
    },
    {
      "cell_type": "code",
      "metadata": {
        "id": "XL-MCnhAX0y9",
        "colab_type": "code",
        "colab": {}
      },
      "source": [
        "# Import dataset\n",
        "digits=load_digits()"
      ],
      "execution_count": 0,
      "outputs": []
    },
    {
      "cell_type": "markdown",
      "metadata": {
        "id": "JjrmOEyn5J7Z",
        "colab_type": "text"
      },
      "source": [
        "**Visualize the data**"
      ]
    },
    {
      "cell_type": "code",
      "metadata": {
        "id": "KTVGxHQQZmhn",
        "colab_type": "code",
        "outputId": "3ef49c21-05e3-4185-eeea-a799bda6c1fc",
        "colab": {
          "base_uri": "https://localhost:8080/",
          "height": 292
        }
      },
      "source": [
        "# First image --> 8x8 image of integer pixels in the range 0..16.\n",
        "import pylab as pl\n",
        "pl.gray()\n",
        "pl.matshow(digits.images[0])\n",
        "pl.show()"
      ],
      "execution_count": 0,
      "outputs": [
        {
          "output_type": "display_data",
          "data": {
            "text/plain": [
              "<Figure size 432x288 with 0 Axes>"
            ]
          },
          "metadata": {
            "tags": []
          }
        },
        {
          "output_type": "display_data",
          "data": {
            "image/png": "[encoded data removed]",
            "text/plain": [
              "<Figure size 288x288 with 1 Axes>"
            ]
          },
          "metadata": {
            "tags": [],
            "needs_background": "light"
          }
        }
      ]
    },
    {
      "cell_type": "markdown",
      "metadata": {
        "id": "YC1cOcMl5Sgv",
        "colab_type": "text"
      },
      "source": [
        "**Data preprocessing**"
      ]
    },
    {
      "cell_type": "code",
      "metadata": {
        "id": "-8_m8j3DbOCd",
        "colab_type": "code",
        "colab": {}
      },
      "source": [
        "# Split the dataset into targets and inputs\n",
        "inputs = digits.images\n",
        "targets = digits.target"
      ],
      "execution_count": 0,
      "outputs": []
    },
    {
      "cell_type": "code",
      "metadata": {
        "id": "1aKspIjRjZcr",
        "colab_type": "code",
        "colab": {}
      },
      "source": [
        "# Nomalize the input dataset. inputs of the dataset is ranging from 0 to 16 pixels. So divide the all the inputs from 16\n",
        "normalized_inputs = inputs / 16.0"
      ],
      "execution_count": 0,
      "outputs": []
    },
    {
      "cell_type": "code",
      "metadata": {
        "id": "LEtw3VBQj_Lt",
        "colab_type": "code",
        "outputId": "3638e0a4-894f-423e-fc92-d0309242e9bf",
        "colab": {
          "base_uri": "https://localhost:8080/",
          "height": 153
        }
      },
      "source": [
        "normalized_inputs[0]"
      ],
      "execution_count": 0,
      "outputs": [
        {
          "output_type": "execute_result",
          "data": {
            "text/plain": [
              "array([[0.    , 0.    , 0.3125, 0.8125, 0.5625, 0.0625, 0.    , 0.    ],\n",
              "       [0.    , 0.    , 0.8125, 0.9375, 0.625 , 0.9375, 0.3125, 0.    ],\n",
              "       [0.    , 0.1875, 0.9375, 0.125 , 0.    , 0.6875, 0.5   , 0.    ],\n",
              "       [0.    , 0.25  , 0.75  , 0.    , 0.    , 0.5   , 0.5   , 0.    ],\n",
              "       [0.    , 0.3125, 0.5   , 0.    , 0.    , 0.5625, 0.5   , 0.    ],\n",
              "       [0.    , 0.25  , 0.6875, 0.    , 0.0625, 0.75  , 0.4375, 0.    ],\n",
              "       [0.    , 0.125 , 0.875 , 0.3125, 0.625 , 0.75  , 0.    , 0.    ],\n",
              "       [0.    , 0.    , 0.375 , 0.8125, 0.625 , 0.    , 0.    , 0.    ]])"
            ]
          },
          "metadata": {
            "tags": []
          },
          "execution_count": 10
        }
      ]
    },
    {
      "cell_type": "code",
      "metadata": {
        "id": "vxeLHT3AbfXi",
        "colab_type": "code",
        "outputId": "7a38b003-2f07-4c39-880c-0fd59a7a1f92",
        "colab": {
          "base_uri": "https://localhost:8080/",
          "height": 85
        }
      },
      "source": [
        "# 20% for testing and 80% for training\n",
        "from sklearn.model_selection import train_test_split\n",
        "X_train, X_test, y_train, y_test = train_test_split(normalized_inputs, targets, test_size=0.2)\n",
        "print(\"Shape of training images: \" + str(X_train.shape))\n",
        "print(\"Shape of training targets: \" + str(y_train.shape))\n",
        "print(\"Shape of testing images: \" + str(X_test.shape))\n",
        "print(\"Shape of testing targets \" + str(y_test.shape))"
      ],
      "execution_count": 0,
      "outputs": [
        {
          "output_type": "stream",
          "text": [
            "Shape of training images: (1437, 8, 8)\n",
            "Shape of training targets: (1437,)\n",
            "Shape of testing images: (360, 8, 8)\n",
            "Shape of testing targets (360,)\n"
          ],
          "name": "stdout"
        }
      ]
    },
    {
      "cell_type": "code",
      "metadata": {
        "id": "-JzFhHoqawOD",
        "colab_type": "code",
        "outputId": "92e51767-f06d-439b-cfec-93503e62401e",
        "colab": {
          "base_uri": "https://localhost:8080/",
          "height": 260
        }
      },
      "source": [
        "# Vizualise the first 20 images\n",
        "plt.figure(figsize=(5,5))\n",
        "for i in range(20):\n",
        "  plt.subplot(5,5,i+1) # at a row only 05 images, then move to next row\n",
        "  plt.xticks([])\n",
        "  plt.yticks([])\n",
        "  plt.imshow(X_train[i], cmap=plt.cm.binary)\n",
        "  plt.xlabel(digits.target_names[y_train[i]])\n",
        "plt.show()"
      ],
      "execution_count": 0,
      "outputs": [
        {
          "output_type": "display_data",
          "data": {
            "image/png": "[encoded data removed]",
            "text/plain": [
              "<Figure size 360x360 with 20 Axes>"
            ]
          },
          "metadata": {
            "tags": []
          }
        }
      ]
    },
    {
      "cell_type": "code",
      "metadata": {
        "id": "rQbkSBeFc2jr",
        "colab_type": "code",
        "colab": {}
      },
      "source": [
        "# Sequential model, since our CNN will be a linear stack of layers\n",
        "model = tf.keras.models.Sequential()"
      ],
      "execution_count": 0,
      "outputs": []
    },
    {
      "cell_type": "code",
      "metadata": {
        "id": "mciBLvkGd4fm",
        "colab_type": "code",
        "outputId": "97c1193c-8b5c-49c0-90c0-292516087c31",
        "colab": {
          "base_uri": "https://localhost:8080/",
          "height": 323
        }
      },
      "source": [
        "# Sequential model must need a input shape, so we add it into the Conv2D\n",
        "# Once this input shape is specified, Keras will automatically infer the shapes of inputs for later layers.\n",
        "model.add(\n",
        "    tf.keras.layers.Conv2D(\n",
        "        filters=16,\n",
        "        kernel_size=(3,3),\n",
        "        strides=(1,1),\n",
        "        activation='relu',\n",
        "        input_shape=(8,8,1)\n",
        "    )\n",
        ")\n",
        "# To down-sample an input representation\n",
        "# Max pooling process with 2X2 filters and 2 strides.\n",
        "model.add(\n",
        "    tf.keras.layers.MaxPool2D(\n",
        "        pool_size=(2,2),\n",
        "        strides=(2,2)\n",
        "    )\n",
        ")\n",
        "# Transforms the matrix of features into a vector\n",
        "model.add(\n",
        "    tf.keras.layers.Flatten()\n",
        ")\n",
        "# The output relu layer has 128 nodes, one for each class.\n",
        "model.add(\n",
        "    tf.keras.layers.Dense(\n",
        "        units=128,\n",
        "        activation='relu'\n",
        "    )\n",
        ")\n",
        "# The output relu layer has 10 nodes, one for each class.\n",
        "# Softmax for multi class classification -- 10 classes\n",
        "model.add(\n",
        "    tf.keras.layers.Dense(\n",
        "        units=10,\n",
        "        activation='softmax'\n",
        "    )\n",
        ")\n",
        "# build the model\n",
        "# Before training, configure the training process. Need to decide 3 key factors during the compilation step:\n",
        "model.compile(\n",
        "    loss=tf.keras.losses.sparse_categorical_crossentropy, # loss func categorical because of more than 2 classes (10 classes)\n",
        "    optimizer=tf.keras.optimizers.Adam(), # the Adam gradient-based optimizer\n",
        "    metrics=['accuracy'] # reporting metric - since this is a classification problem accuracy metric is suitable\n",
        ")\n",
        "# display the model structure\n",
        "model.summary()"
      ],
      "execution_count": 0,
      "outputs": [
        {
          "output_type": "stream",
          "text": [
            "Model: \"sequential\"\n",
            "_________________________________________________________________\n",
            "Layer (type)                 Output Shape              Param #   \n",
            "=================================================================\n",
            "conv2d (Conv2D)              (None, 6, 6, 16)          160       \n",
            "_________________________________________________________________\n",
            "max_pooling2d (MaxPooling2D) (None, 3, 3, 16)          0         \n",
            "_________________________________________________________________\n",
            "flatten (Flatten)            (None, 144)               0         \n",
            "_________________________________________________________________\n",
            "dense (Dense)                (None, 128)               18560     \n",
            "_________________________________________________________________\n",
            "dense_1 (Dense)              (None, 10)                1290      \n",
            "=================================================================\n",
            "Total params: 20,010\n",
            "Trainable params: 20,010\n",
            "Non-trainable params: 0\n",
            "_________________________________________________________________\n"
          ],
          "name": "stdout"
        }
      ]
    },
    {
      "cell_type": "code",
      "metadata": {
        "id": "OvqPqcmKfFQY",
        "colab_type": "code",
        "outputId": "f8589442-4fb7-4e8d-965a-0f61501a251f",
        "colab": {
          "base_uri": "https://localhost:8080/",
          "height": 644
        }
      },
      "source": [
        "tf.keras.utils.plot_model(model, show_shapes=True, show_layer_names=False)"
      ],
      "execution_count": 0,
      "outputs": [
        {
          "output_type": "execute_result",
          "data": {
            "image/png": "[encoded data removed]",
            "text/plain": [
              "<IPython.core.display.Image object>"
            ]
          },
          "metadata": {
            "tags": []
          },
          "execution_count": 16
        }
      ]
    },
    {
      "cell_type": "code",
      "metadata": {
        "id": "DtYerAXqfPaF",
        "colab_type": "code",
        "outputId": "de386d4d-b89c-40b3-bda5-3a700a1c33fd",
        "colab": {
          "base_uri": "https://localhost:8080/",
          "height": 357
        }
      },
      "source": [
        "# Reshape the features (1437, 8, 8),'(360, 8, 8)' to '(1437, 8, 8, 1)','(360, 8, 8, 1)' training and testing respectively.\n",
        "x_train=np.expand_dims(X_train,-1)\n",
        "x_test= np.expand_dims(X_test,-1)\n",
        "\n",
        "#Train the CNN on the training data\n",
        "history = model.fit(\n",
        "    x_train,y_train,\n",
        "    batch_size=256,\n",
        "    epochs=10,\n",
        "    validation_split=0.2,\n",
        "    verbose=1\n",
        ")"
      ],
      "execution_count": 0,
      "outputs": [
        {
          "output_type": "stream",
          "text": [
            "Epoch 1/10\n",
            "5/5 [==============================] - 0s 42ms/step - loss: 2.2932 - accuracy: 0.1506 - val_loss: 2.2553 - val_accuracy: 0.2153\n",
            "Epoch 2/10\n",
            "5/5 [==============================] - 0s 11ms/step - loss: 2.2073 - accuracy: 0.3246 - val_loss: 2.1876 - val_accuracy: 0.4340\n",
            "Epoch 3/10\n",
            "5/5 [==============================] - 0s 11ms/step - loss: 2.1276 - accuracy: 0.5500 - val_loss: 2.1087 - val_accuracy: 0.6632\n",
            "Epoch 4/10\n",
            "5/5 [==============================] - 0s 12ms/step - loss: 2.0392 - accuracy: 0.6841 - val_loss: 2.0205 - val_accuracy: 0.6944\n",
            "Epoch 5/10\n",
            "5/5 [==============================] - 0s 12ms/step - loss: 1.9365 - accuracy: 0.7676 - val_loss: 1.9156 - val_accuracy: 0.7465\n",
            "Epoch 6/10\n",
            "5/5 [==============================] - 0s 12ms/step - loss: 1.8206 - accuracy: 0.8085 - val_loss: 1.8010 - val_accuracy: 0.7812\n",
            "Epoch 7/10\n",
            "5/5 [==============================] - 0s 11ms/step - loss: 1.6891 - accuracy: 0.8494 - val_loss: 1.6564 - val_accuracy: 0.8194\n",
            "Epoch 8/10\n",
            "5/5 [==============================] - 0s 11ms/step - loss: 1.5460 - accuracy: 0.8721 - val_loss: 1.5148 - val_accuracy: 0.8056\n",
            "Epoch 9/10\n",
            "5/5 [==============================] - 0s 13ms/step - loss: 1.4032 - accuracy: 0.8668 - val_loss: 1.3625 - val_accuracy: 0.8229\n",
            "Epoch 10/10\n",
            "5/5 [==============================] - 0s 12ms/step - loss: 1.2457 - accuracy: 0.8903 - val_loss: 1.2150 - val_accuracy: 0.8368\n"
          ],
          "name": "stdout"
        }
      ]
    },
    {
      "cell_type": "code",
      "metadata": {
        "id": "UMZHxaI2ye6b",
        "colab_type": "code",
        "outputId": "f5a43d23-dbf5-49d4-fe7c-8c369ef4ffd3",
        "colab": {
          "base_uri": "https://localhost:8080/",
          "height": 225
        }
      },
      "source": [
        "#Display the first 8 correcly classified images from the test data set\n",
        "correct=np.nonzero(predicted_classes==y_test)[0]\n",
        "plt.figure(figsize=(5,3.5))\n",
        "for j, correct in enumerate(correct[0:8]):\n",
        "   plt.subplot(2,4, j+1) #adjust the plot to displat first 8 images  (2X4) <-- this is for the plot area adjustment\n",
        "   plt.xticks([])\n",
        "   plt.yticks([])\n",
        "   plt.imshow(x_test[correct].reshape(8, 8), cmap=\"Reds\")\n",
        "   plt.title(\"Predicted: {}\".format(target_names[predicted_classes[correct]]))\n",
        "   plt.xlabel(\"Actual: {}\" .format(target_names[y_test[correct]]))"
      ],
      "execution_count": 0,
      "outputs": [
        {
          "output_type": "display_data",
          "data": {
            "image/png": "[encoded data removed]",
            "text/plain": [
              "<Figure size 360x252 with 8 Axes>"
            ]
          },
          "metadata": {
            "tags": []
          }
        }
      ]
    },
    {
      "cell_type": "code",
      "metadata": {
        "id": "wmPE1FzuxXIb",
        "colab_type": "code",
        "outputId": "f2d5731a-8453-4956-b447-d1a5caaf0df6",
        "colab": {
          "base_uri": "https://localhost:8080/",
          "height": 225
        }
      },
      "source": [
        "#Display the first 8 incorrecly classified images from the test data set\n",
        "incorrect=np.nonzero(predicted_classes!=y_test)[0]\n",
        "plt.figure(figsize=(5,3.5))\n",
        "for j, incorrect in enumerate(incorrect[0:8]):\n",
        "   plt.subplot(2,4, j+1) #adjust the plot to displat first 8 images  (2X4) <-- this is for the plot area adjustment\n",
        "   plt.xticks([])\n",
        "   plt.yticks([])\n",
        "   plt.imshow(x_test[incorrect].reshape(8, 8), cmap=\"Reds\")\n",
        "   plt.title(\"Predicted: {}\".format(target_names[predicted_classes[incorrect]]))\n",
        "   plt.xlabel(\"Actual: {}\" .format(target_names[y_test[incorrect]]))"
      ],
      "execution_count": 0,
      "outputs": [
        {
          "output_type": "display_data",
          "data": {
            "image/png": "[encoded data removed]",
            "text/plain": [
              "<Figure size 360x252 with 8 Axes>"
            ]
          },
          "metadata": {
            "tags": []
          }
        }
      ]
    },
    {
      "cell_type": "code",
      "metadata": {
        "id": "nBoYPkfr98fg",
        "colab_type": "code",
        "outputId": "7bc1ed1e-d5d5-4381-abf0-e6d2f589da62",
        "colab": {
          "base_uri": "https://localhost:8080/",
          "height": 51
        }
      },
      "source": [
        "# Evaluate the model on the test data.\n",
        "# On test data model got 89% accuracy which is a good performance, while it hit the 1.1% loss.\n",
        "score = model.evaluate(x_test, y_test, verbose=0)\n",
        "print('Test loss:', score[0])\n",
        "print('Test accuracy:', score[1])"
      ],
      "execution_count": 0,
      "outputs": [
        {
          "output_type": "stream",
          "text": [
            "Test loss: 1.1719354391098022\n",
            "Test accuracy: 0.8972222208976746\n"
          ],
          "name": "stdout"
        }
      ]
    }
  ]
}