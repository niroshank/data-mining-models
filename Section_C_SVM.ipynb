{
  "nbformat": 4,
  "nbformat_minor": 0,
  "metadata": {
    "colab": {
      "name": "Section_C_SVM.ipynb",
      "provenance": [],
      "authorship_tag": "ABX9TyMaJSdpU6WXRsGxs0pKT/Jh",
      "include_colab_link": true
    },
    "kernelspec": {
      "name": "python3",
      "display_name": "Python 3"
    }
  },
  "cells": [
    {
      "cell_type": "markdown",
      "metadata": {
        "id": "view-in-github",
        "colab_type": "text"
      },
      "source": [
        "<a href=\"https://colab.research.google.com/github/niroshank/data-mining-models/blob/master/Section_C_SVM.ipynb\" target=\"_parent\"><img src=\"https://colab.research.google.com/assets/colab-badge.svg\" alt=\"Open In Colab\"/></a>"
      ]
    },
    {
      "cell_type": "code",
      "metadata": {
        "id": "Mwg2dLdXf5Ap",
        "colab_type": "code",
        "colab": {}
      },
      "source": [
        "# Import required libries\n",
        "import pandas as pd\n",
        "from sklearn.datasets import load_iris\n",
        "import matplotlib.pyplot as plt\n",
        "%matplotlib inline\n",
        "iris = load_iris()"
      ],
      "execution_count": 0,
      "outputs": []
    },
    {
      "cell_type": "markdown",
      "metadata": {
        "id": "pwmDCAi2R3Dz",
        "colab_type": "text"
      },
      "source": [
        "**Data Preprocessing**"
      ]
    },
    {
      "cell_type": "code",
      "metadata": {
        "id": "LbYaXy5wMkOh",
        "colab_type": "code",
        "outputId": "9ad51943-127d-4a62-ec24-1508a0e48bb8",
        "colab": {
          "base_uri": "https://localhost:8080/",
          "height": 142
        }
      },
      "source": [
        "# Create a dataframe\n",
        "df = pd.DataFrame(iris.data, columns=iris.feature_names)\n",
        "# Add target column to the dataframe\n",
        "df['target'] = iris.target\n",
        "# Extracting the associated target names using lambda function\n",
        "df['flower_name'] = df.target.apply(lambda x: iris.target_names[x])\n",
        "df.head(3)"
      ],
      "execution_count": 0,
      "outputs": [
        {
          "output_type": "execute_result",
          "data": {
            "text/html": [
              "<div>\n",
              "<style scoped>\n",
              "    .dataframe tbody tr th:only-of-type {\n",
              "        vertical-align: middle;\n",
              "    }\n",
              "\n",
              "    .dataframe tbody tr th {\n",
              "        vertical-align: top;\n",
              "    }\n",
              "\n",
              "    .dataframe thead th {\n",
              "        text-align: right;\n",
              "    }\n",
              "</style>\n",
              "<table border=\"1\" class=\"dataframe\">\n",
              "  <thead>\n",
              "    <tr style=\"text-align: right;\">\n",
              "      <th></th>\n",
              "      <th>sepal length (cm)</th>\n",
              "      <th>sepal width (cm)</th>\n",
              "      <th>petal length (cm)</th>\n",
              "      <th>petal width (cm)</th>\n",
              "      <th>target</th>\n",
              "      <th>flower_name</th>\n",
              "    </tr>\n",
              "  </thead>\n",
              "  <tbody>\n",
              "    <tr>\n",
              "      <th>0</th>\n",
              "      <td>5.1</td>\n",
              "      <td>3.5</td>\n",
              "      <td>1.4</td>\n",
              "      <td>0.2</td>\n",
              "      <td>0</td>\n",
              "      <td>setosa</td>\n",
              "    </tr>\n",
              "    <tr>\n",
              "      <th>1</th>\n",
              "      <td>4.9</td>\n",
              "      <td>3.0</td>\n",
              "      <td>1.4</td>\n",
              "      <td>0.2</td>\n",
              "      <td>0</td>\n",
              "      <td>setosa</td>\n",
              "    </tr>\n",
              "    <tr>\n",
              "      <th>2</th>\n",
              "      <td>4.7</td>\n",
              "      <td>3.2</td>\n",
              "      <td>1.3</td>\n",
              "      <td>0.2</td>\n",
              "      <td>0</td>\n",
              "      <td>setosa</td>\n",
              "    </tr>\n",
              "  </tbody>\n",
              "</table>\n",
              "</div>"
            ],
            "text/plain": [
              "   sepal length (cm)  sepal width (cm)  ...  target  flower_name\n",
              "0                5.1               3.5  ...       0       setosa\n",
              "1                4.9               3.0  ...       0       setosa\n",
              "2                4.7               3.2  ...       0       setosa\n",
              "\n",
              "[3 rows x 6 columns]"
            ]
          },
          "metadata": {
            "tags": []
          },
          "execution_count": 32
        }
      ]
    },
    {
      "cell_type": "code",
      "metadata": {
        "id": "rqpj9HUvOyjL",
        "colab_type": "code",
        "outputId": "649e687a-47fc-4312-b815-b81c552c8f81",
        "colab": {
          "base_uri": "https://localhost:8080/",
          "height": 173
        }
      },
      "source": [
        "# Group the dataframe by target and get the first record\n",
        "df.groupby(['flower_name']).mean()"
      ],
      "execution_count": 0,
      "outputs": [
        {
          "output_type": "execute_result",
          "data": {
            "text/html": [
              "<div>\n",
              "<style scoped>\n",
              "    .dataframe tbody tr th:only-of-type {\n",
              "        vertical-align: middle;\n",
              "    }\n",
              "\n",
              "    .dataframe tbody tr th {\n",
              "        vertical-align: top;\n",
              "    }\n",
              "\n",
              "    .dataframe thead th {\n",
              "        text-align: right;\n",
              "    }\n",
              "</style>\n",
              "<table border=\"1\" class=\"dataframe\">\n",
              "  <thead>\n",
              "    <tr style=\"text-align: right;\">\n",
              "      <th></th>\n",
              "      <th>sepal length (cm)</th>\n",
              "      <th>sepal width (cm)</th>\n",
              "      <th>petal length (cm)</th>\n",
              "      <th>petal width (cm)</th>\n",
              "      <th>target</th>\n",
              "    </tr>\n",
              "    <tr>\n",
              "      <th>flower_name</th>\n",
              "      <th></th>\n",
              "      <th></th>\n",
              "      <th></th>\n",
              "      <th></th>\n",
              "      <th></th>\n",
              "    </tr>\n",
              "  </thead>\n",
              "  <tbody>\n",
              "    <tr>\n",
              "      <th>setosa</th>\n",
              "      <td>5.006</td>\n",
              "      <td>3.428</td>\n",
              "      <td>1.462</td>\n",
              "      <td>0.246</td>\n",
              "      <td>0</td>\n",
              "    </tr>\n",
              "    <tr>\n",
              "      <th>versicolor</th>\n",
              "      <td>5.936</td>\n",
              "      <td>2.770</td>\n",
              "      <td>4.260</td>\n",
              "      <td>1.326</td>\n",
              "      <td>1</td>\n",
              "    </tr>\n",
              "    <tr>\n",
              "      <th>virginica</th>\n",
              "      <td>6.588</td>\n",
              "      <td>2.974</td>\n",
              "      <td>5.552</td>\n",
              "      <td>2.026</td>\n",
              "      <td>2</td>\n",
              "    </tr>\n",
              "  </tbody>\n",
              "</table>\n",
              "</div>"
            ],
            "text/plain": [
              "             sepal length (cm)  sepal width (cm)  ...  petal width (cm)  target\n",
              "flower_name                                       ...                          \n",
              "setosa                   5.006             3.428  ...             0.246       0\n",
              "versicolor               5.936             2.770  ...             1.326       1\n",
              "virginica                6.588             2.974  ...             2.026       2\n",
              "\n",
              "[3 rows x 5 columns]"
            ]
          },
          "metadata": {
            "tags": []
          },
          "execution_count": 11
        }
      ]
    },
    {
      "cell_type": "markdown",
      "metadata": {
        "id": "hhpNO9_MQrTY",
        "colab_type": "text"
      },
      "source": [
        "We can identify some variations between the means of flowers. Viriginca's sepal and petal are 19.59cm^2 and 11.25cm^2 larger than other two flowers."
      ]
    },
    {
      "cell_type": "markdown",
      "metadata": {
        "id": "YMrRQ6lfR_pp",
        "colab_type": "text"
      },
      "source": [
        "**Visualize the dataset**"
      ]
    },
    {
      "cell_type": "code",
      "metadata": {
        "id": "3Y8TdsXRP1ji",
        "colab_type": "code",
        "colab": {}
      },
      "source": [
        "# Divide the dataset into 3 sections for a comparative assessment\n",
        "df0 = df[:50]\n",
        "df1 = df[50:100]\n",
        "df2 = df[100:]"
      ],
      "execution_count": 0,
      "outputs": []
    },
    {
      "cell_type": "code",
      "metadata": {
        "id": "RzrKlBz5Q0xN",
        "colab_type": "code",
        "outputId": "07031456-cda3-4070-cefc-9eb3ee55b854",
        "colab": {
          "base_uri": "https://localhost:8080/",
          "height": 299
        }
      },
      "source": [
        "# Using sepal length and sepal width\n",
        "# This shows setosa has large sepal than other two.\n",
        "plt.xlabel(iris.feature_names[0])\n",
        "plt.ylabel(iris.feature_names[1])\n",
        "plt.scatter(df0['sepal length (cm)'], df0['sepal width (cm)'], color=\"green\") # setosa\n",
        "plt.scatter(df1['sepal length (cm)'], df1['sepal width (cm)'], color=\"blue\") # versicolor\n",
        "plt.scatter(df2['sepal length (cm)'], df2['sepal width (cm)'], color=\"red\") # virginica"
      ],
      "execution_count": 0,
      "outputs": [
        {
          "output_type": "execute_result",
          "data": {
            "text/plain": [
              "<matplotlib.collections.PathCollection at 0x7f2a0745e2b0>"
            ]
          },
          "metadata": {
            "tags": []
          },
          "execution_count": 13
        },
        {
          "output_type": "display_data",
          "data": {
            "image/png": "[encoded data removed]",
            "text/plain": [
              "<Figure size 432x288 with 1 Axes>"
            ]
          },
          "metadata": {
            "tags": [],
            "needs_background": "light"
          }
        }
      ]
    },
    {
      "cell_type": "code",
      "metadata": {
        "id": "gzyoNP_vR9w4",
        "colab_type": "code",
        "outputId": "daf430fe-7fc9-4adc-ec0a-0d14bd03c6fc",
        "colab": {
          "base_uri": "https://localhost:8080/",
          "height": 296
        }
      },
      "source": [
        "# Using petal length and petal width\n",
        "# This shows that setosa has the smallest petal comparing to other.\n",
        "plt.xlabel(iris.feature_names[2])\n",
        "plt.ylabel(iris.feature_names[3])\n",
        "plt.scatter(df0['petal length (cm)'], df0['petal width (cm)'], color=\"green\") # setosa\n",
        "plt.scatter(df1['petal length (cm)'], df1['petal width (cm)'], color=\"blue\") # versicolor\n",
        "plt.scatter(df2['petal length (cm)'], df2['petal width (cm)'], color=\"red\") #virginica"
      ],
      "execution_count": 0,
      "outputs": [
        {
          "output_type": "execute_result",
          "data": {
            "text/plain": [
              "<matplotlib.collections.PathCollection at 0x7f2a0472e358>"
            ]
          },
          "metadata": {
            "tags": []
          },
          "execution_count": 14
        },
        {
          "output_type": "display_data",
          "data": {
            "image/png": "[encoded data removed]",
            "text/plain": [
              "<Figure size 432x288 with 1 Axes>"
            ]
          },
          "metadata": {
            "tags": [],
            "needs_background": "light"
          }
        }
      ]
    },
    {
      "cell_type": "markdown",
      "metadata": {
        "id": "g8-2LYJEcMIe",
        "colab_type": "text"
      },
      "source": [
        "**Splitting dataset**"
      ]
    },
    {
      "cell_type": "code",
      "metadata": {
        "id": "TeVc7iIHSYT7",
        "colab_type": "code",
        "outputId": "f9b05720-9c7a-4809-b5d6-3c9a6a6f4e6e",
        "colab": {
          "base_uri": "https://localhost:8080/",
          "height": 142
        }
      },
      "source": [
        "# Create two dataframe to features and targets by dividing the main dataframe\n",
        "inputs = df.drop(['target', 'flower_name'], axis='columns')\n",
        "targets = df.target\n",
        "inputs.head(3)"
      ],
      "execution_count": 0,
      "outputs": [
        {
          "output_type": "execute_result",
          "data": {
            "text/html": [
              "<div>\n",
              "<style scoped>\n",
              "    .dataframe tbody tr th:only-of-type {\n",
              "        vertical-align: middle;\n",
              "    }\n",
              "\n",
              "    .dataframe tbody tr th {\n",
              "        vertical-align: top;\n",
              "    }\n",
              "\n",
              "    .dataframe thead th {\n",
              "        text-align: right;\n",
              "    }\n",
              "</style>\n",
              "<table border=\"1\" class=\"dataframe\">\n",
              "  <thead>\n",
              "    <tr style=\"text-align: right;\">\n",
              "      <th></th>\n",
              "      <th>sepal length (cm)</th>\n",
              "      <th>sepal width (cm)</th>\n",
              "      <th>petal length (cm)</th>\n",
              "      <th>petal width (cm)</th>\n",
              "    </tr>\n",
              "  </thead>\n",
              "  <tbody>\n",
              "    <tr>\n",
              "      <th>0</th>\n",
              "      <td>5.1</td>\n",
              "      <td>3.5</td>\n",
              "      <td>1.4</td>\n",
              "      <td>0.2</td>\n",
              "    </tr>\n",
              "    <tr>\n",
              "      <th>1</th>\n",
              "      <td>4.9</td>\n",
              "      <td>3.0</td>\n",
              "      <td>1.4</td>\n",
              "      <td>0.2</td>\n",
              "    </tr>\n",
              "    <tr>\n",
              "      <th>2</th>\n",
              "      <td>4.7</td>\n",
              "      <td>3.2</td>\n",
              "      <td>1.3</td>\n",
              "      <td>0.2</td>\n",
              "    </tr>\n",
              "  </tbody>\n",
              "</table>\n",
              "</div>"
            ],
            "text/plain": [
              "   sepal length (cm)  sepal width (cm)  petal length (cm)  petal width (cm)\n",
              "0                5.1               3.5                1.4               0.2\n",
              "1                4.9               3.0                1.4               0.2\n",
              "2                4.7               3.2                1.3               0.2"
            ]
          },
          "metadata": {
            "tags": []
          },
          "execution_count": 33
        }
      ]
    },
    {
      "cell_type": "code",
      "metadata": {
        "id": "SjHncPoKSyrD",
        "colab_type": "code",
        "colab": {}
      },
      "source": [
        "# Divide dataset into train and test, 77% for traniing and 33% for testing\n",
        "from sklearn.model_selection import train_test_split\n",
        "X_train, X_test, y_train, y_test = train_test_split(inputs, targets, test_size=0.33)"
      ],
      "execution_count": 0,
      "outputs": []
    },
    {
      "cell_type": "markdown",
      "metadata": {
        "id": "hvz4t3C1cRz0",
        "colab_type": "text"
      },
      "source": [
        "**Identify the best kernel and C value**"
      ]
    },
    {
      "cell_type": "code",
      "metadata": {
        "id": "5GNQtAR0TSsA",
        "colab_type": "code",
        "colab": {}
      },
      "source": [
        "# Create the SVM model\n",
        "# To idetify the best algorithm for this dataset, 'plot decision' regions are used.\n",
        "from mlxtend.plotting import plot_decision_regions\n",
        "from sklearn.decomposition import PCA\n",
        "\n",
        "# Since plot decision regions only accepts 2D array, X_train transform to 2 dimensional array\n",
        "pca = PCA(n_components = 2)\n",
        "X_train_2D = pca.fit_transform(X_train)"
      ],
      "execution_count": 0,
      "outputs": []
    },
    {
      "cell_type": "code",
      "metadata": {
        "id": "yOvxzCmZo4D0",
        "colab_type": "code",
        "outputId": "d8ba4f7e-6292-462d-fe22-b8dc7c92ce3b",
        "colab": {
          "base_uri": "https://localhost:8080/",
          "height": 349
        }
      },
      "source": [
        "# Linear kernal\n",
        "from sklearn.svm import SVC\n",
        "model_ln = SVC(kernel='linear')\n",
        "model_ln.fit(X_train_2D, y_train)\n",
        "\n",
        "# Plotting\n",
        "plot_decision_regions(X_train_2D, y_train.to_numpy(), clf=model_ln, legend=2)\n",
        "\n",
        "# Adding axes annotations\n",
        "plt.xlabel('sepal length [cm]')\n",
        "plt.ylabel('petal length [cm]')\n",
        "plt.title('SVM on Iris')\n",
        "plt.show()"
      ],
      "execution_count": 0,
      "outputs": [
        {
          "output_type": "stream",
          "text": [
            "/usr/local/lib/python3.6/dist-packages/mlxtend/plotting/decision_regions.py:244: MatplotlibDeprecationWarning: Passing unsupported keyword arguments to axis() will raise a TypeError in 3.3.\n",
            "  ax.axis(xmin=xx.min(), xmax=xx.max(), y_min=yy.min(), y_max=yy.max())\n"
          ],
          "name": "stderr"
        },
        {
          "output_type": "display_data",
          "data": {
            "image/png": "[encoded data removed]",
            "text/plain": [
              "<Figure size 432x288 with 1 Axes>"
            ]
          },
          "metadata": {
            "tags": [],
            "needs_background": "light"
          }
        }
      ]
    },
    {
      "cell_type": "code",
      "metadata": {
        "id": "0D1-ESccsnEr",
        "colab_type": "code",
        "outputId": "0b705725-8c14-42dc-a37f-1e897171e401",
        "colab": {
          "base_uri": "https://localhost:8080/",
          "height": 349
        }
      },
      "source": [
        "# Non-linear kernal\n",
        "from sklearn.svm import SVC\n",
        "model_rbf = SVC(kernel='rbf')\n",
        "model_rbf.fit(X_train_2D, y_train)\n",
        "\n",
        "# ploting\n",
        "plot_decision_regions(X_train_2D, y_train.to_numpy(), clf=model_rbf, legend=2)\n",
        "\n",
        "# Adding axes annotations\n",
        "plt.xlabel('sepal length [cm]')\n",
        "plt.ylabel('petal length [cm]')\n",
        "plt.title('SVM on Iris')\n",
        "plt.show()"
      ],
      "execution_count": 0,
      "outputs": [
        {
          "output_type": "stream",
          "text": [
            "/usr/local/lib/python3.6/dist-packages/mlxtend/plotting/decision_regions.py:244: MatplotlibDeprecationWarning: Passing unsupported keyword arguments to axis() will raise a TypeError in 3.3.\n",
            "  ax.axis(xmin=xx.min(), xmax=xx.max(), y_min=yy.min(), y_max=yy.max())\n"
          ],
          "name": "stderr"
        },
        {
          "output_type": "display_data",
          "data": {
            "image/png": "[encoded data removed]",
            "text/plain": [
              "<Figure size 432x288 with 1 Axes>"
            ]
          },
          "metadata": {
            "tags": [],
            "needs_background": "light"
          }
        }
      ]
    },
    {
      "cell_type": "markdown",
      "metadata": {
        "id": "QwhuSOJopJ_V",
        "colab_type": "text"
      },
      "source": [
        "Above plots proves that both Linear and rbf works perfect with iris dataset."
      ]
    },
    {
      "cell_type": "code",
      "metadata": {
        "id": "qgt2jsCGo0oK",
        "colab_type": "code",
        "outputId": "1c2f9770-5a38-46b4-edef-8284511a7c6f",
        "colab": {
          "base_uri": "https://localhost:8080/",
          "height": 187
        }
      },
      "source": [
        "# Identify the ideal C value\n",
        "for C in [0.1, 0.5, 1.0, 2.0, 4.0]:\n",
        "  clf_rbf = SVC(kernel='rbf', C=C, gamma='auto')\n",
        "  clf_ln = SVC(kernel='linear', C=C, gamma='auto')\n",
        "  clf_rbf.fit(X_train, y_train)\n",
        "  clf_ln.fit(X_train, y_train)\n",
        "  scores_rbf = clf_rbf.score(X_test, y_test)\n",
        "  scores_ln = clf_ln.score(X_test, y_test)\n",
        "  print(\"rbf\", C, scores_rbf * 100)\n",
        "  print(\"ln\", C, scores_ln * 100)"
      ],
      "execution_count": 0,
      "outputs": [
        {
          "output_type": "stream",
          "text": [
            "rbf 0.1 98.0\n",
            "ln 0.1 98.0\n",
            "rbf 0.5 98.0\n",
            "ln 0.5 100.0\n",
            "rbf 1.0 100.0\n",
            "ln 1.0 98.0\n",
            "rbf 2.0 100.0\n",
            "ln 2.0 98.0\n",
            "rbf 4.0 100.0\n",
            "ln 4.0 98.0\n"
          ],
          "name": "stdout"
        }
      ]
    },
    {
      "cell_type": "markdown",
      "metadata": {
        "id": "sqZL04M4cdsm",
        "colab_type": "text"
      },
      "source": [
        "**Finalize the model**"
      ]
    },
    {
      "cell_type": "code",
      "metadata": {
        "id": "PJmUJbM-u8SU",
        "colab_type": "code",
        "outputId": "1a96c460-af4f-4977-be8a-7e9cfd047a2f",
        "colab": {
          "base_uri": "https://localhost:8080/",
          "height": 85
        }
      },
      "source": [
        "# Create final model using above results\n",
        "model = SVC(kernel='rbf', C=0.5, gamma='auto')\n",
        "model.fit(X_train, y_train)"
      ],
      "execution_count": 0,
      "outputs": [
        {
          "output_type": "execute_result",
          "data": {
            "text/plain": [
              "SVC(C=0.5, break_ties=False, cache_size=200, class_weight=None, coef0=0.0,\n",
              "    decision_function_shape='ovr', degree=3, gamma='auto', kernel='rbf',\n",
              "    max_iter=-1, probability=False, random_state=None, shrinking=True,\n",
              "    tol=0.001, verbose=False)"
            ]
          },
          "metadata": {
            "tags": []
          },
          "execution_count": 51
        }
      ]
    },
    {
      "cell_type": "markdown",
      "metadata": {
        "id": "vbslsL6wcl--",
        "colab_type": "text"
      },
      "source": [
        "**Test the model**"
      ]
    },
    {
      "cell_type": "code",
      "metadata": {
        "id": "jesos00X2mgt",
        "colab_type": "code",
        "outputId": "e309613c-04e1-46dd-a6c8-82cc6a9a4205",
        "colab": {
          "base_uri": "https://localhost:8080/",
          "height": 34
        }
      },
      "source": [
        "# Get the score of the final model\n",
        "model.score(X_test, y_test)"
      ],
      "execution_count": 0,
      "outputs": [
        {
          "output_type": "execute_result",
          "data": {
            "text/plain": [
              "0.98"
            ]
          },
          "metadata": {
            "tags": []
          },
          "execution_count": 52
        }
      ]
    },
    {
      "cell_type": "code",
      "metadata": {
        "id": "SJifMYIL2rtI",
        "colab_type": "code",
        "outputId": "ada05dd4-adb2-4cfa-8fca-0660288ab998",
        "colab": {
          "base_uri": "https://localhost:8080/",
          "height": 51
        }
      },
      "source": [
        "print(\"Actual value is\", iris.target_names[y_test.to_numpy()[0]])\n",
        "x = model.predict([X_test.to_numpy()[0]])\n",
        "if x[0] == 0:\n",
        "  print(\"Predicted as a setosa\")\n",
        "elif x[0] == 1:\n",
        "  print(\"Predicted as a versicolor\")\n",
        "elif x[0] == 2:\n",
        "  print(\"Predicted as a virginica\")"
      ],
      "execution_count": 0,
      "outputs": [
        {
          "output_type": "stream",
          "text": [
            "Actual value is versicolor\n",
            "Predicted as a versicolor\n"
          ],
          "name": "stdout"
        }
      ]
    },
    {
      "cell_type": "code",
      "metadata": {
        "id": "x_ZXtd2CkA6j",
        "colab_type": "code",
        "outputId": "4e781f7d-e84e-409f-d725-f7777b300ac9",
        "colab": {
          "base_uri": "https://localhost:8080/",
          "height": 513
        }
      },
      "source": [
        "# Ploting a confusion matrix\n",
        "import seaborn as sn # to create a heatmap\n",
        "from sklearn.metrics import confusion_matrix\n",
        "y_predicted=model.predict(X_test)\n",
        "cm=confusion_matrix(y_test,y_predicted)\n",
        "\n",
        "plt.figure(figsize=(10,7))\n",
        "sn.heatmap(cm, annot=True)\n",
        "plt.xlabel('Predicted')\n",
        "plt.ylabel('Truth')"
      ],
      "execution_count": 0,
      "outputs": [
        {
          "output_type": "stream",
          "text": [
            "/usr/local/lib/python3.6/dist-packages/statsmodels/tools/_testing.py:19: FutureWarning: pandas.util.testing is deprecated. Use the functions in the public API at pandas.testing instead.\n",
            "  import pandas.util.testing as tm\n"
          ],
          "name": "stderr"
        },
        {
          "output_type": "execute_result",
          "data": {
            "text/plain": [
              "Text(69.0, 0.5, 'Truth')"
            ]
          },
          "metadata": {
            "tags": []
          },
          "execution_count": 54
        },
        {
          "output_type": "display_data",
          "data": {
            "image/png": "[encoded data removed]",
            "text/plain": [
              "<Figure size 720x504 with 2 Axes>"
            ]
          },
          "metadata": {
            "tags": [],
            "needs_background": "light"
          }
        }
      ]
    },
    {
      "cell_type": "code",
      "metadata": {
        "id": "liZp44gNOVZt",
        "colab_type": "code",
        "outputId": "d64c55f5-78db-49bc-f00f-d14c2cebad01",
        "colab": {
          "base_uri": "https://localhost:8080/",
          "height": 68
        }
      },
      "source": [
        "#Finding the accuracy of support vector machine model from the confusion matrix.\n",
        "a = cm.shape\n",
        "corrPred = 0\n",
        "falsePred = 0\n",
        "for row in range(a[0]):\n",
        "    for c in range(a[1]):\n",
        "        if row == c:\n",
        "            corrPred +=cm[row,c]\n",
        "        else:\n",
        "            falsePred += cm[row,c]\n",
        "print('Correct predictions: ', corrPred)\n",
        "print('False predictions', falsePred)\n",
        "print ('Accuracy of the multiclass logistic classification is: ', corrPred/(cm.sum()))"
      ],
      "execution_count": 0,
      "outputs": [
        {
          "output_type": "stream",
          "text": [
            "Correct predictions:  49\n",
            "False predictions 1\n",
            "Accuracy of the multiclass logistic classification is:  0.98\n"
          ],
          "name": "stdout"
        }
      ]
    }
  ]
}